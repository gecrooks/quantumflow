{
  "nbformat": 4,
  "nbformat_minor": 0,
  "metadata": {
    "colab": {
      "name": "qf-example-translate.ipynb",
      "provenance": [],
      "collapsed_sections": [],
      "authorship_tag": "ABX9TyPOD9xMQk+o935afCUZkxE3"
    },
    "kernelspec": {
      "name": "python3",
      "display_name": "Python 3"
    },
    "language_info": {
      "name": "python"
    }
  },
  "cells": [
    {
      "cell_type": "markdown",
      "metadata": {
        "id": "zEYEt6mowqNl"
      },
      "source": [
        "# QuantumFlow Example: Translating a CSwap gate"
      ]
    },
    {
      "cell_type": "markdown",
      "metadata": {
        "id": "Wuy93ehqraxh"
      },
      "source": [
        "[![Open In Colab](https://colab.research.google.com/assets/colab-badge.svg)](https://colab.research.google.com/github/gecrooks/quantumflow/blob/master/notebooks/qf-example-translate.ipynb)"
      ]
    },
    {
      "cell_type": "code",
      "metadata": {
        "id": "fDQE3APeC0tU"
      },
      "source": [
        "!pip install git+https://github.com/gecrooks/quantumflow.git"
      ],
      "execution_count": null,
      "outputs": []
    },
    {
      "cell_type": "markdown",
      "metadata": {
        "id": "1BFW58kYsOpA"
      },
      "source": [
        "[QuantumFlow](https://https://github.com/gecrooks/quantumflow-dev) contains a rich collection of quantum gates. But often we want to express quantuym circuits using a restricted set of gates. We'll use the controlled-swap gate as an example."
      ]
    },
    {
      "cell_type": "code",
      "metadata": {
        "colab": {
          "base_uri": "https://localhost:8080/",
          "height": 80
        },
        "id": "k1_BE9ATsDqi",
        "outputId": "3afc3d0e-b19a-4dd8-fd18-634b752df11d"
      },
      "source": [
        "import quantumflow as qf\n",
        "circ_cswap = qf.Circuit(qf.CSwap(0, 1, 2))\n",
        "circ_cswap"
      ],
      "execution_count": 2,
      "outputs": [
        {
          "output_type": "execute_result",
          "data": {
            "text/html": [
              "<pre style=\"line-height: 90%\">0: ───●───\n",
              "      │   \n",
              "1: ───x───\n",
              "      │   \n",
              "2: ───x───\n",
              "</pre>"
            ],
            "text/plain": [
              "<quantumflow.circuits.Circuit at 0x7fb446616890>"
            ]
          },
          "metadata": {},
          "execution_count": 2
        }
      ]
    },
    {
      "cell_type": "code",
      "metadata": {
        "id": "Rx-6Vak1sxqG"
      },
      "source": [
        ""
      ],
      "execution_count": 2,
      "outputs": []
    },
    {
      "cell_type": "markdown",
      "metadata": {
        "id": "dKIaS88UwcR9"
      },
      "source": [
        "Lets convert this CSwap into a circuit containing CZ, T, and H gates. We chain three seperate translations: a conversion of a controlled swap to a controlled-controlled not (plus controlled nots); a conversion of CCNots to CNots (plus 1-qubit gates); and a conversion of controlled-nots to controlled-Z's. These translations are applied in turn."
      ]
    },
    {
      "cell_type": "code",
      "metadata": {
        "colab": {
          "base_uri": "https://localhost:8080/",
          "height": 80
        },
        "id": "xSxyhpngdU2t",
        "outputId": "8d30a5c4-e42b-428b-acc0-4253623fcaa6"
      },
      "source": [
        "\n",
        "translators = [\n",
        "    qf.translate_cswap_to_ccnot,\n",
        "    qf.translate_ccnot_to_cnot,\n",
        "    qf.translate_cnot_to_cz,\n",
        "]\n",
        "circ_translated0 = qf.circuit_translate(circ_cswap, translators)\n",
        "circ_translated0\n"
      ],
      "execution_count": 3,
      "outputs": [
        {
          "output_type": "execute_result",
          "data": {
            "text/html": [
              "<pre style=\"line-height: 90%\">0: ────────────────────────────────────●────────────────────────────────●───────●────────────T───●───────────────────\n",
              "                                       │                                │       │                │                   \n",
              "1: ───H───●───H───────●────────────────┼───────────────●────────────T───┼───H───●───H───T⁺───H───●───H───H───●───H───\n",
              "          │           │                │               │                │                                    │       \n",
              "2: ───────●───H───H───●───H───T⁺───H───●───H───T───H───●───H───T⁺───H───●────────────────────────H───T───H───●───────\n",
              "</pre>"
            ],
            "text/plain": [
              "<quantumflow.circuits.Circuit at 0x7fb4349240b0>"
            ]
          },
          "metadata": {},
          "execution_count": 3
        }
      ]
    },
    {
      "cell_type": "markdown",
      "metadata": {
        "id": "7GMOxapZhjJn"
      },
      "source": [
        "Lets check that these two circuits are in fact equivelant. The function `circuits_close` applies each circuit to random initial quantum states and checks that we get the same outout state in each case. "
      ]
    },
    {
      "cell_type": "code",
      "metadata": {
        "colab": {
          "base_uri": "https://localhost:8080/"
        },
        "id": "cubcyR_eiSdx",
        "outputId": "a64460cf-ff3b-44b0-94d1-4bb98cec3305"
      },
      "source": [
        "qf.circuits_close(circ_cswap, circ_translated0)"
      ],
      "execution_count": 4,
      "outputs": [
        {
          "output_type": "execute_result",
          "data": {
            "text/plain": [
              "True"
            ]
          },
          "metadata": {},
          "execution_count": 4
        }
      ]
    },
    {
      "cell_type": "markdown",
      "metadata": {
        "id": "hGGQsyMZisAZ"
      },
      "source": [
        "Alternatively, we can convert each circuit to a 3-qubit gate, and check that the gate operators are equivalent. In both cases we're insensitive to physically meaningless differences in phase.\n"
      ]
    },
    {
      "cell_type": "code",
      "metadata": {
        "colab": {
          "base_uri": "https://localhost:8080/"
        },
        "id": "TpFusGzui6mM",
        "outputId": "9fd8ccbb-de42-437e-d3a9-9377435cef57"
      },
      "source": [
        "qf.gates_close(circ_cswap.asgate(), circ_translated0.asgate())"
      ],
      "execution_count": 5,
      "outputs": [
        {
          "output_type": "execute_result",
          "data": {
            "text/plain": [
              "True"
            ]
          },
          "metadata": {},
          "execution_count": 5
        }
      ]
    },
    {
      "cell_type": "markdown",
      "metadata": {
        "id": "krmUeRyFkjUH"
      },
      "source": [
        "There are over 100 translations in `QuantumFlow`. Fortunatly you don't generally need to access them explicetly."
      ]
    },
    {
      "cell_type": "code",
      "metadata": {
        "colab": {
          "base_uri": "https://localhost:8080/"
        },
        "id": "IQ6rJV_WjZwJ",
        "outputId": "896a2737-997b-4c91-f185-418afba516b0"
      },
      "source": [
        "len(qf.TRANSLATIONS)"
      ],
      "execution_count": 6,
      "outputs": [
        {
          "output_type": "execute_result",
          "data": {
            "text/plain": [
              "129"
            ]
          },
          "metadata": {},
          "execution_count": 6
        }
      ]
    },
    {
      "cell_type": "markdown",
      "metadata": {
        "id": "lhGFNrVfk5ku"
      },
      "source": [
        "Instead of specifing the translations, we can instead specify the set of gates to target the translate at."
      ]
    },
    {
      "cell_type": "code",
      "metadata": {
        "colab": {
          "base_uri": "https://localhost:8080/",
          "height": 80
        },
        "id": "8KjHMrQSe3mg",
        "outputId": "2fc8e41b-28cc-4eb6-cfc9-855b51892ce5"
      },
      "source": [
        "circ_translated1 = qf.circuit_translate(circ_cswap, targets=[qf.CZ, qf.H, qf.T, qf.T_H])\n",
        "assert qf.circuits_close(circ_cswap, circ_translated1)\n",
        "circ_translated1"
      ],
      "execution_count": 7,
      "outputs": [
        {
          "output_type": "execute_result",
          "data": {
            "text/html": [
              "<pre style=\"line-height: 90%\">0: ────────────────────────────────────●────────────────────────────────●───────●────────────T───●───────────────────\n",
              "                                       │                                │       │                │                   \n",
              "1: ───H───●───H───────●────────────────┼───────────────●────────────T───┼───H───●───H───T⁺───H───●───H───H───●───H───\n",
              "          │           │                │               │                │                                    │       \n",
              "2: ───────●───H───H───●───H───T⁺───H───●───H───T───H───●───H───T⁺───H───●────────────────────────H───T───H───●───────\n",
              "</pre>"
            ],
            "text/plain": [
              "<quantumflow.circuits.Circuit at 0x7fb4348bd470>"
            ]
          },
          "metadata": {},
          "execution_count": 7
        }
      ]
    },
    {
      "cell_type": "markdown",
      "metadata": {
        "id": "e-3Ba_hxlgZm"
      },
      "source": [
        "Here `qf.T_H` is the Hermitian conjugate of the T-gate. \n",
        "\n",
        "If we don't specify the targets, then a default gate set is targeted (given by `qf.TERMINAL_GATES`)."
      ]
    },
    {
      "cell_type": "code",
      "metadata": {
        "colab": {
          "base_uri": "https://localhost:8080/",
          "height": 80
        },
        "id": "mgjTB2srfj02",
        "outputId": "4cdc41a0-07cf-454f-a153-f22b8c636162"
      },
      "source": [
        "circ_translated2 = qf.circuit_translate(circ_cswap)\n",
        "assert qf.circuits_close(circ_cswap, circ_translated2)\n",
        "circ_translated2"
      ],
      "execution_count": 8,
      "outputs": [
        {
          "output_type": "execute_result",
          "data": {
            "text/html": [
              "<pre style=\"line-height: 90%\">0: ────────────────────●────────────────●───────●───T────●───────\n",
              "                       │                │       │        │       \n",
              "1: ───X───────●────────┼───────●────────┼───T───X───T⁺───X───X───\n",
              "      │       │        │       │        │                    │   \n",
              "2: ───●───H───X───T⁺───X───T───X───T⁺───X───────────T────H───●───\n",
              "</pre>"
            ],
            "text/plain": [
              "<quantumflow.circuits.Circuit at 0x7fb434911bf0>"
            ]
          },
          "metadata": {},
          "execution_count": 8
        }
      ]
    },
    {
      "cell_type": "markdown",
      "metadata": {
        "id": "dWgv6tEWnP-M"
      },
      "source": [
        "Different quantum libraries support different sets of quantum gates. For instance `qiskit` does not support the fermionic simulator gate. But we can translate the fsim gate into a circuit with gates that qiskit does understand."
      ]
    },
    {
      "cell_type": "code",
      "metadata": {
        "colab": {
          "base_uri": "https://localhost:8080/",
          "height": 55
        },
        "id": "zXzpoCurgA-i",
        "outputId": "93ebf104-e28e-41ff-d46f-299c4ccc2c9a"
      },
      "source": [
        "circ_fsim = qf.Circuit(qf.FSim(0.1, 0.2,  0, 1))\n",
        "circ_fsim_qiskit = qf.circuit_translate(circ_fsim, targets=qf.QISKIT_GATES)\n",
        "assert qf.circuits_close(circ_fsim, circ_fsim_qiskit)\n",
        "circ_fsim_qiskit"
      ],
      "execution_count": 9,
      "outputs": [
        {
          "output_type": "execute_result",
          "data": {
            "text/html": [
              "<pre style=\"line-height: 90%\">0: ───Z───Rx(-0.5*pi)───●───Rx(0.100000000000000)───●───V───Z───●───────────────────────\n",
              "                        │                           │           │                       \n",
              "1: ───Z───Rx(-0.5*pi)───X───Rz(0.100000000000000)───X───V───Z───P(-0.200000000000000)───\n",
              "</pre>"
            ],
            "text/plain": [
              "<quantumflow.circuits.Circuit at 0x7fb4348d2170>"
            ]
          },
          "metadata": {},
          "execution_count": 9
        }
      ]
    },
    {
      "cell_type": "markdown",
      "metadata": {
        "id": "ykSfe7Dpne5_"
      },
      "source": [
        "On the other hand, `cirq` does support the fsim gate, and a translation to `cirq` gates leaves the fsim gate unchanged."
      ]
    },
    {
      "cell_type": "code",
      "metadata": {
        "colab": {
          "base_uri": "https://localhost:8080/",
          "height": 55
        },
        "id": "VUm8D9umf92E",
        "outputId": "65889caf-82bf-4dfb-c6b3-c2e11bd10d98"
      },
      "source": [
        "circ_fsim_cirq = qf.circuit_translate(circ_fsim, targets=qf.CIRQ_GATES)\n",
        "assert qf.circuits_close(circ_fsim, circ_fsim_cirq)\n",
        "circ_fsim_cirq"
      ],
      "execution_count": 10,
      "outputs": [
        {
          "output_type": "execute_result",
          "data": {
            "text/html": [
              "<pre style=\"line-height: 90%\">0: ───FSim(1/10,1/5)───\n",
              "        │              \n",
              "1: ───FSim(1/10,1/5)───\n",
              "</pre>"
            ],
            "text/plain": [
              "<quantumflow.circuits.Circuit at 0x7fb4345c2e90>"
            ]
          },
          "metadata": {},
          "execution_count": 10
        }
      ]
    },
    {
      "cell_type": "markdown",
      "metadata": {
        "id": "R5d_vKbBqr2I"
      },
      "source": [
        "Here's a list of all current translations, with source and target gates."
      ]
    },
    {
      "cell_type": "code",
      "metadata": {
        "colab": {
          "base_uri": "https://localhost:8080/"
        },
        "id": "Zn2Tr77Rm0C-",
        "outputId": "425cf711-96eb-4358-ecec-7f190bc8d551"
      },
      "source": [
        "print(\"Translation                               Source Gate           Target Gates\")\n",
        "print()\n",
        "\n",
        "for trans in qf.TRANSLATIONS:\n",
        "  name = trans.__name__\n",
        "  source = qf.translation_source_gate(trans).__name__\n",
        "  targets = ', '.join(gate.__name__ for gate in qf.translation_target_gates(trans))\n",
        "  print(f'{name:<40}  {source:<20}  {targets}')"
      ],
      "execution_count": 11,
      "outputs": [
        {
          "output_type": "stream",
          "name": "stdout",
          "text": [
            "Translation                               Source Gate           Target Gates\n",
            "\n",
            "translate_IdentityGate_to_I               IdentityGate          I\n",
            "translate_MultiSwapGate_to_swap_network   MultiSwapGate         Swap\n",
            "translate_ReversalGate_to_swap_network    ReversalGate          Swap\n",
            "translate_QFTGate                         QFTGate               H, CZPow, Swap\n",
            "translate_InvQFTGate                      InvQFTGate            H, CZPow, Swap\n",
            "translate_PauliGate                       PauliGate             CNot, XPow, YPow, ZPow\n",
            "translate_DiagonalGate                    DiagonalGate          Rz, CNot\n",
            "translate_MultiplexedRzGate               MultiplexedRzGate     Rz, CNot\n",
            "translate_MultiplexedRyGate               MultiplexedRyGate     V, V_H, MultiplexedRzGate\n",
            "translate_x_to_tx                         X                     XPow\n",
            "translate_y_to_ty                         Y                     YPow\n",
            "translate_z_to_tz                         Z                     ZPow\n",
            "translate_s_to_tz                         S                     ZPow\n",
            "translate_t_to_tz                         T                     ZPow\n",
            "translate_invs_to_tz                      S_H                   ZPow\n",
            "translate_invt_to_tz                      T_H                   ZPow\n",
            "translate_rx_to_tx                        Rx                    XPow\n",
            "translate_ry_to_ty                        Ry                    YPow\n",
            "translate_rz_to_tz                        Rz                    ZPow\n",
            "translate_rn_to_rz_ry                     Rn                    Rz, Ry\n",
            "translate_phase_to_rz                     PhaseShift            Rz\n",
            "translate_sqrty_to_ty                     SqrtY                 YPow\n",
            "translate_sqrty_h_to_ty                   SqrtY_H               YPow\n",
            "translate_tx_to_rx                        XPow                  Rx\n",
            "translate_ty_to_ry                        YPow                  Ry\n",
            "translate_tz_to_rz                        ZPow                  Rz\n",
            "translate_ty_to_xzx                       YPow                  XPow, ZPow\n",
            "translate_tx_to_zyz                       XPow                  YPow, S, S_H\n",
            "translate_tz_to_xyx                       ZPow                  YPow, V, V_H\n",
            "translate_phased_x_to_zxz                 PhasedX               X, ZPow\n",
            "translate_phased_tx_to_zxz                PhasedXPow            XPow, ZPow\n",
            "translate_v_to_tx                         V                     XPow\n",
            "translate_invv_to_tx                      V_H                   XPow\n",
            "translate_th_to_tx                        HPow                  XPow, H, S, T, S_H, T_H\n",
            "translate_ty_to_zxz                       YPow                  XPow, S, S_H\n",
            "translate_tx_to_zxzxz                     XPow                  XPow, ZPow\n",
            "translate_hadamard_to_zxz                 H                     XPow, ZPow\n",
            "translate_u3_to_zyz                       U3                    Rz, Ry\n",
            "translate_u2_to_zyz                       U2                    Rz, Ry\n",
            "translate_tx_to_hzh                       XPow                  H, ZPow\n",
            "translate_b_to_can                        B                     Can, Y, Z\n",
            "translate_barenco_to_xx                   Barenco               XX, YPow, ZPow\n",
            "translate_can_to_cnot                     Can                   CNot, S, S_H, XPow, YPow, ZPow, V, Z, V_H\n",
            "translate_can_to_xx_yy_zz                 Can                   XX, YY, ZZ\n",
            "translate_ch_to_cpt                       CH                    CNot, S, T, S_H, T_H, H\n",
            "translate_cnot_to_cz                      CNot                  H, CZ\n",
            "translate_cnot_to_sqrtiswap               CNot                  SqrtISwap_H, X, S_H, H\n",
            "translate_cnot_to_sqrtswap                CNot                  SqrtSwap, YPow, ZPow, Z\n",
            "translate_cnot_to_xx                      CNot                  XX, H, S_H\n",
            "translate_cy_to_cnot                      CY                    CNot, S, S_H\n",
            "translate_cypow_to_cxpow                  CYPow                 CNotPow, S, S_H\n",
            "translate_cphase_to_zz                    CPhase                ZZ, ZPow\n",
            "translate_cphase00_to_cphase              CPhase00              X, CPhase\n",
            "translate_cphase01_to_cphase              CPhase01              X, CPhase\n",
            "translate_cphase10_to_cphase              CPhase10              X, CPhase\n",
            "translate_cross_resonance_to_xx           CrossResonance        XX, XPow, YPow, X\n",
            "translate_crx_to_cnotpow                  CRx                   CNotPow, PhaseShift\n",
            "translate_cry_to_cypow                    CRy                   CYPow, PhaseShift\n",
            "translate_crz_to_czpow                    CRz                   CZPow, PhaseShift\n",
            "translate_crz_to_cnot                     CRz                   CNot, PhaseShift\n",
            "translate_cnotpow_to_zz                   CNotPow               ZZ, ZPow, H\n",
            "translate_cz_to_zz                        CZ                    ZZ, S_H\n",
            "translate_czpow_to_zz                     CZPow                 ZZ, ZPow\n",
            "translate_czpow_to_cphase                 CZPow                 CPhase\n",
            "translate_cphase_to_czpow                 CPhase                CZPow\n",
            "translate_cu3_to_cnot                     CU3                   CNot, PhaseShift, U3\n",
            "translate_cv_to_cpt                       CV                    CNot, T, T_H, H\n",
            "translate_cvh_to_cpt                      CV_H                  CNot, T, T_H, H\n",
            "translate_ecp_to_can                      ECP                   Can\n",
            "translate_ecp_to_sqrtiswap                ECP                   SqrtISwap_H, YPow, S, S_H\n",
            "translate_exch_to_can                     Exch                  Can\n",
            "translate_exch_to_xy_zz                   Exch                  XY, ZZ\n",
            "translate_fsim_to_xy_cz                   FSim                  XY, CZ\n",
            "translate_fswap                           FSwap                 Swap, CZ\n",
            "translate_fswappow                        FSwapPow              Exch, CZPow\n",
            "translate_givens_to_xy                    Givens                XY, T, T_H\n",
            "translate_iswap_to_can                    ISwap                 Can, X\n",
            "translate_iswap_to_swap_cz                ISwap                 Swap, CZ, S\n",
            "translate_iswap_to_sqrtiswap              ISwap                 SqrtISwap\n",
            "translate_iswap_to_xy                     ISwap                 XY\n",
            "translate_pswap_to_canonical              PSwap                 Can, Y\n",
            "translate_rxx_to_xx                       Rxx                   XX\n",
            "translate_ryy_to_yy                       Ryy                   YY\n",
            "translate_rzz_to_zz                       Rzz                   ZZ\n",
            "translate_rzz_to_cnot                     Rzz                   CNot, PhaseShift, U3\n",
            "translate_sqrtiswap_to_sqrtiswap_h        SqrtISwap             SqrtISwap_H, Z\n",
            "translate_sqrtiswap_h_to_can              SqrtISwap_H           Can\n",
            "translate_sqrtiswap_h_to_sqrtiswap        SqrtISwap_H           SqrtISwap, Z\n",
            "translate_sqrtswap_to_can                 SqrtSwap              Can\n",
            "translate_sqrtswap_h_to_can               SqrtSwap_H            Can\n",
            "translate_swap_to_cnot                    Swap                  CNot\n",
            "translate_swap_to_ecp_sqrtiswap           Swap                  ECP, SqrtISwap_H, H, ZPow, YPow\n",
            "translate_swap_to_iswap_cz                Swap                  ISwap, CZ, S_H\n",
            "translate_sycamore_to_fsim                Sycamore              FSim\n",
            "translate_syc_to_can                      Sycamore              Can, ZPow\n",
            "translate_syc_to_cphase                   Sycamore              CPhase, ISwap, Z\n",
            "translate_w_to_ecp                        W                     ECP, H, S, S_H, T, T_H\n",
            "translate_w_to_cnot                       W                     CNot, S, T, S_H, T_H, H\n",
            "translate_w_to_ch_cnot                    W                     CNot, CH\n",
            "translate_xx_to_can                       XX                    Can\n",
            "translate_xx_to_zz                        XX                    H, ZZ\n",
            "translate_xy_to_can                       XY                    Can\n",
            "translate_xy_to_sqrtiswap                 XY                    Z, T, T_H, ZPow, SqrtISwap_H\n",
            "translate_yy_to_can                       YY                    Can\n",
            "translate_yy_to_zz                        YY                    XPow, ZZ\n",
            "translate_zz_to_can                       ZZ                    Can\n",
            "translate_zz_to_cnot                      ZZ                    CNot, ZPow\n",
            "translate_zz_to_xx                        ZZ                    H, XX\n",
            "translate_zz_to_yy                        ZZ                    XPow, YY\n",
            "translate_CS_to_CZPow                     CS                    CZPow\n",
            "translate_CT_to_CZPow                     CT                    CZPow\n",
            "translate_a_to_cnot                       A                     CNot, Rz, Ry\n",
            "translate_a_to_can                        A                     Can, ZPow\n",
            "translate_ccix_to_cnot                    CCiX                  CNot, T, T_H, H\n",
            "translate_ccix_to_cnot_adjacent           CCiX                  CNot, T, T_H, H\n",
            "translate_ccnot_to_ccz                    CCNot                 H, CCZ\n",
            "translate_ccnot_to_cnot                   CCNot                 CNot, T, T_H, H\n",
            "translate_ccnot_to_cnot_AMMR              CCNot                 CNot, T, T_H, H\n",
            "translate_ccnot_to_cv                     CCNot                 CV, CV_H, CNot\n",
            "translate_ccxpow_to_cnotpow               CCXPow                CNot, CNotPow\n",
            "translate_ccz_to_adjacent_cnot            CCZ                   T, CNot, T_H\n",
            "translate_ccz_to_ccnot                    CCZ                   H, CCNot\n",
            "translate_ciswap_to_ccix                  CISwap                CNot, CCiX\n",
            "translate_cswap_to_ccnot                  CSwap                 CNot, CCNot\n",
            "translate_cswap_to_cnot                   CSwap                 CNot, H, T, T_H, V, V_H, S, S_H\n",
            "translate_cswap_inside_to_cnot            CSwap                 CNot, H, T, T_H, V, V_H, S, S_H\n",
            "translate_deutsch_to_barenco              Deutsch               Barenco\n",
            "translate_margolus_to_cnot                Margolus              CNot, V, V_H, T, T_H\n",
            "translate_ccnot_to_margolus               Margolus              CCNot, X, CCZ\n"
          ]
        }
      ]
    }
  ]
}