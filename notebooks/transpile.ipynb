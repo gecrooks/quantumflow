{
  "nbformat": 4,
  "nbformat_minor": 0,
  "metadata": {
    "colab": {
      "name": "qf-example-translate.ipynb",
      "provenance": [],
      "collapsed_sections": [],
      "authorship_tag": "ABX9TyPaAtJlhBjONg0n3Q5Ye6O1",
      "include_colab_link": true
    },
    "kernelspec": {
      "name": "python3",
      "display_name": "Python 3"
    },
    "language_info": {
      "name": "python"
    }
  },
  "cells": [
    {
      "cell_type": "markdown",
      "metadata": {
        "id": "view-in-github",
        "colab_type": "text"
      },
      "source": [
        "<a href=\"https://colab.research.google.com/github/gecrooks/quantumflow-dev/blob/gec085-dev/notebooks/transpile.ipynb\" target=\"_parent\"><img src=\"https://colab.research.google.com/assets/colab-badge.svg\" alt=\"Open In Colab\"/></a>"
      ]
    },
    {
      "cell_type": "markdown",
      "metadata": {
        "id": "zEYEt6mowqNl"
      },
      "source": [
        "# QuantumFlow Tutorial: Transpiling"
      ]
    },
    {
      "cell_type": "markdown",
      "metadata": {
        "id": "1BFW58kYsOpA"
      },
      "source": [
        "[QuantumFlow](https://https://github.com/gecrooks/quantumflow-dev) can convert circuits between a number of popular quantum libraries, such as `qiskit`, `braket`, and `cirq`. These additional libaries can be installed with the `[extra]` or `[dev]` options, e.g. `pip install quantumflow[ext]`"
      ]
    },
    {
      "cell_type": "code",
      "metadata": {
        "id": "fDQE3APeC0tU"
      },
      "source": [
        "!pip install --quiet git+https://github.com/gecrooks/quantumflow.git#egg=quantumflow[ext]"
      ],
      "execution_count": null,
      "outputs": []
    },
    {
      "cell_type": "markdown",
      "metadata": {
        "id": "fUZYiTJ3LdRX"
      },
      "source": [
        "Lets built a simple quantum circuit to make a 5 qubit Bell state using IBM's `qiskit`."
      ]
    },
    {
      "cell_type": "code",
      "metadata": {
        "colab": {
          "base_uri": "https://localhost:8080/"
        },
        "id": "k1_BE9ATsDqi",
        "outputId": "e518e3ec-ddaa-4ed9-c82f-980b9b30245a"
      },
      "source": [
        "import qiskit\n",
        "qr = qiskit.QuantumRegister(5)\n",
        "qiskit_circuit = qiskit.QuantumCircuit(qr)\n",
        "qiskit_circuit.h(qr[0])\n",
        "qiskit_circuit.cx(qr[0], qr[1])\n",
        "qiskit_circuit.cx(qr[1], qr[2])\n",
        "qiskit_circuit.cx(qr[2], qr[3])\n",
        "qiskit_circuit.cx(qr[3], qr[4])\n",
        "print(qiskit_circuit)\n"
      ],
      "execution_count": 35,
      "outputs": [
        {
          "output_type": "stream",
          "name": "stdout",
          "text": [
            "      ┌───┐                    \n",
            "q5_0: ┤ H ├──■─────────────────\n",
            "      └───┘┌─┴─┐               \n",
            "q5_1: ─────┤ X ├──■────────────\n",
            "           └───┘┌─┴─┐          \n",
            "q5_2: ──────────┤ X ├──■───────\n",
            "                └───┘┌─┴─┐     \n",
            "q5_3: ───────────────┤ X ├──■──\n",
            "                     └───┘┌─┴─┐\n",
            "q5_4: ────────────────────┤ X ├\n",
            "                          └───┘\n"
          ]
        }
      ]
    },
    {
      "cell_type": "markdown",
      "metadata": {
        "id": "r1SjOHsULjib"
      },
      "source": [
        "We can then convert this `qiskit` circuit to native `quantumflow`,"
      ]
    },
    {
      "cell_type": "code",
      "metadata": {
        "id": "aJ10xHQwQqpf",
        "outputId": "51904307-e056-4632-a11e-6eee049d6cfb",
        "colab": {
          "base_uri": "https://localhost:8080/",
          "height": 130
        }
      },
      "source": [
        "import quantumflow as qf\n",
        "qf_circuit = qf.transpile(qiskit_circuit)\n",
        "qf_circuit"
      ],
      "execution_count": 36,
      "outputs": [
        {
          "output_type": "execute_result",
          "data": {
            "text/html": [
              "<pre style=\"line-height: 90%\">0: ───H───●───────────────\n",
              "          │               \n",
              "1: ───────X───●───────────\n",
              "              │           \n",
              "2: ───────────X───●───────\n",
              "                  │       \n",
              "3: ───────────────X───●───\n",
              "                      │   \n",
              "4: ───────────────────X───\n",
              "</pre>"
            ],
            "text/plain": [
              "<quantumflow.circuits.Circuit at 0x7f35b9ff33b0>"
            ]
          },
          "metadata": {},
          "execution_count": 36
        }
      ]
    },
    {
      "cell_type": "markdown",
      "metadata": {
        "id": "9CNwk7OyLqD0"
      },
      "source": [
        "or to Google's `cirq`,"
      ]
    },
    {
      "cell_type": "code",
      "metadata": {
        "id": "gwr77x22Qqdi",
        "outputId": "ff7660f4-8754-432a-a208-e59b5fe9305f",
        "colab": {
          "base_uri": "https://localhost:8080/",
          "height": 173
        }
      },
      "source": [
        "cirq_circuit = qf.transpile(qiskit_circuit, output_format=\"cirq\")\n",
        "cirq_circuit"
      ],
      "execution_count": 37,
      "outputs": [
        {
          "output_type": "execute_result",
          "data": {
            "text/html": [
              "<pre style=\"overflow: auto; white-space: pre;\">0: ───H───@───────────────\n",
              "          │\n",
              "1: ───────X───@───────────\n",
              "              │\n",
              "2: ───────────X───@───────\n",
              "                  │\n",
              "3: ───────────────X───@───\n",
              "                      │\n",
              "4: ───────────────────X───</pre>"
            ],
            "text/plain": [
              "0: ───H───@───────────────\n",
              "          │\n",
              "1: ───────X───@───────────\n",
              "              │\n",
              "2: ───────────X───@───────\n",
              "                  │\n",
              "3: ───────────────X───@───\n",
              "                      │\n",
              "4: ───────────────────X───"
            ]
          },
          "metadata": {},
          "execution_count": 37
        }
      ]
    },
    {
      "cell_type": "markdown",
      "metadata": {
        "id": "Zzf1nMj6LtgH"
      },
      "source": [
        "or Amazon's `braket`."
      ]
    },
    {
      "cell_type": "code",
      "metadata": {
        "id": "QbMemDfhQqE3",
        "outputId": "5920cc2a-a9f5-4d9f-c38d-bf060880e135",
        "colab": {
          "base_uri": "https://localhost:8080/"
        }
      },
      "source": [
        "braket_circuit = qf.transpile(qiskit_circuit, output_format=\"braket\")\n",
        "print(braket_circuit)"
      ],
      "execution_count": 38,
      "outputs": [
        {
          "output_type": "stream",
          "name": "stdout",
          "text": [
            "T  : |0|1|2|3|4|\n",
            "                \n",
            "q0 : -H-C-------\n",
            "        |       \n",
            "q1 : ---X-C-----\n",
            "          |     \n",
            "q2 : -----X-C---\n",
            "            |   \n",
            "q3 : -------X-C-\n",
            "              | \n",
            "q4 : ---------X-\n",
            "\n",
            "T  : |0|1|2|3|4|\n"
          ]
        }
      ]
    },
    {
      "cell_type": "markdown",
      "metadata": {
        "id": "R6WXcmQVL1Nb"
      },
      "source": [
        "We can also transpile to `quirk`. Click on the link below to load the circuit in the web editor."
      ]
    },
    {
      "cell_type": "code",
      "metadata": {
        "id": "n336uzkvRKOR",
        "outputId": "efc5160d-a5f4-47e0-e59b-049e37c34f6e",
        "colab": {
          "base_uri": "https://localhost:8080/"
        }
      },
      "source": [
        "quirk_circuit = qf.transpile(qiskit_circuit, output_format=\"quirk\")\n",
        "print(quirk_circuit)"
      ],
      "execution_count": 39,
      "outputs": [
        {
          "output_type": "stream",
          "name": "stdout",
          "text": [
            "{\"cols\":[[\"H\"],[\"•\",\"X\"],[1,\"•\",\"X\"],[1,1,\"•\",\"X\"],[1,1,1,\"•\",\"X\"]]}\n"
          ]
        }
      ]
    },
    {
      "cell_type": "code",
      "metadata": {
        "id": "KqlhwjdORKLT",
        "outputId": "166cfcb5-3ce3-4405-8728-26b1b4564630",
        "colab": {
          "base_uri": "https://localhost:8080/"
        }
      },
      "source": [
        "from quantumflow import xquirk\n",
        "print(xquirk.quirk_url(quirk_circuit, escape=\"True\"))"
      ],
      "execution_count": 42,
      "outputs": [
        {
          "output_type": "stream",
          "name": "stdout",
          "text": [
            "https://algassert.com/quirk#circuit=%7B%22cols%22%3A%5B%5B%22H%22%5D%2C%5B%22%E2%80%A2%22%2C%22X%22%5D%2C%5B1%2C%22%E2%80%A2%22%2C%22X%22%5D%2C%5B1%2C1%2C%22%E2%80%A2%22%2C%22X%22%5D%2C%5B1%2C1%2C1%2C%22%E2%80%A2%22%2C%22X%22%5D%5D%7D\n"
          ]
        }
      ]
    },
    {
      "cell_type": "markdown",
      "metadata": {
        "id": "j6B-XoTaNSNH"
      },
      "source": [
        "There are a couple of complications to transpiling circuits between libraries. The first problem is the labelling of qubits. QuantumFlow allows a wide variety of labels, including integers, strings, and tuples of integers or strings. In general any hashable, sortable python type. (But you shouldn't mix qubit label types in the same circuit.) However, other libraries are less flexible. Your best bet is to stick to non-negative integers.\n",
        "\n",
        "The second complication is that different quantum librarise implement different sets of quantum gates. For instance, lets add a controlled-Hadamard gate to our initial qiskit circuit,"
      ]
    },
    {
      "cell_type": "code",
      "metadata": {
        "id": "zyVnlpF0NR_e",
        "outputId": "172e2b63-6549-4367-b0ff-a1625405da53",
        "colab": {
          "base_uri": "https://localhost:8080/"
        }
      },
      "source": [
        "qiskit_circuit.ch(qr[3], qr[4])\n",
        "print(qiskit_circuit)"
      ],
      "execution_count": 43,
      "outputs": [
        {
          "output_type": "stream",
          "name": "stdout",
          "text": [
            "      ┌───┐                         \n",
            "q5_0: ┤ H ├──■──────────────────────\n",
            "      └───┘┌─┴─┐                    \n",
            "q5_1: ─────┤ X ├──■─────────────────\n",
            "           └───┘┌─┴─┐               \n",
            "q5_2: ──────────┤ X ├──■────────────\n",
            "                └───┘┌─┴─┐          \n",
            "q5_3: ───────────────┤ X ├──■────■──\n",
            "                     └───┘┌─┴─┐┌─┴─┐\n",
            "q5_4: ────────────────────┤ X ├┤ H ├\n",
            "                          └───┘└───┘\n"
          ]
        }
      ]
    },
    {
      "cell_type": "markdown",
      "metadata": {
        "id": "uskxicrQOZE5"
      },
      "source": [
        "and then transpile to `cirq`."
      ]
    },
    {
      "cell_type": "code",
      "metadata": {
        "id": "dd5gLCFXOfYG",
        "outputId": "9d07c99e-eefb-4ded-beaf-695abcc41857",
        "colab": {
          "base_uri": "https://localhost:8080/",
          "height": 173
        }
      },
      "source": [
        "cirq_circuit = qf.transpile(qiskit_circuit, output_format=\"cirq\")\n",
        "cirq_circuit"
      ],
      "execution_count": 44,
      "outputs": [
        {
          "output_type": "execute_result",
          "data": {
            "text/html": [
              "<pre style=\"overflow: auto; white-space: pre;\">0: ───H───@─────────────────────────────────────────────────\n",
              "          │\n",
              "1: ───────X───@─────────────────────────────────────────────\n",
              "              │\n",
              "2: ───────────X───@─────────────────────────────────────────\n",
              "                  │\n",
              "3: ───────────────X───@───────────────@─────────────────────\n",
              "                      │               │\n",
              "4: ───────────────────X───S───H───T───X───T^-1───H───S^-1───</pre>"
            ],
            "text/plain": [
              "0: ───H───@─────────────────────────────────────────────────\n",
              "          │\n",
              "1: ───────X───@─────────────────────────────────────────────\n",
              "              │\n",
              "2: ───────────X───@─────────────────────────────────────────\n",
              "                  │\n",
              "3: ───────────────X───@───────────────@─────────────────────\n",
              "                      │               │\n",
              "4: ───────────────────X───S───H───T───X───T^-1───H───S^-1───"
            ]
          },
          "metadata": {},
          "execution_count": 44
        }
      ]
    },
    {
      "cell_type": "markdown",
      "metadata": {
        "id": "6j_lkrm2Otev"
      },
      "source": [
        "Google's `cirq` does not implement the controlled-Hadamard gate (CH), so QuantumFlow translates the CH gate into an equivalant sequence of gates that `cirq` does understand.\n",
        "\n",
        "QuantumFlow contains a rich set of gates, so that transpiling to QF is generally a direct literal gate-for-gate translation.\n",
        "\n",
        "The collection of currently supported transpiled formats can be found in `qf.TRANSPILE_FORMATS`."
      ]
    },
    {
      "cell_type": "code",
      "metadata": {
        "id": "M4N2znjoOtLS",
        "outputId": "8b551d0f-dc0c-4320-c797-8d8c71fc437d",
        "colab": {
          "base_uri": "https://localhost:8080/"
        }
      },
      "source": [
        "qf.TRANSPILE_FORMATS"
      ],
      "execution_count": 45,
      "outputs": [
        {
          "output_type": "execute_result",
          "data": {
            "text/plain": [
              "('qasm',\n",
              " 'cirq',\n",
              " 'braket',\n",
              " 'pyquil',\n",
              " 'qiskit',\n",
              " 'quirk',\n",
              " 'qsim',\n",
              " 'quantumflow',\n",
              " 'qutip')"
            ]
          },
          "metadata": {},
          "execution_count": 45
        }
      ]
    }
  ]
}